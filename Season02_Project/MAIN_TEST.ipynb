{
 "cells": [
  {
   "cell_type": "code",
   "execution_count": 1,
   "metadata": {
    "collapsed": false
   },
   "outputs": [
    {
     "name": "stderr",
     "output_type": "stream",
     "text": [
      "Using TensorFlow backend.\n"
     ]
    }
   ],
   "source": [
    "'''Trains a memory network on the bAbI dataset.\n",
    "References:\n",
    "- Jason Weston, Antoine Bordes, Sumit Chopra, Tomas Mikolov, Alexander M. Rush,\n",
    "  \"Towards AI-Complete Question Answering: A Set of Prerequisite Toy Tasks\",\n",
    "  http://arxiv.org/abs/1502.05698\n",
    "- Sainbayar Sukhbaatar, Arthur Szlam, Jason Weston, Rob Fergus,\n",
    "  \"End-To-End Memory Networks\",\n",
    "  http://arxiv.org/abs/1503.08895\n",
    "'''\n",
    "from __future__ import print_function\n",
    "\n",
    "from keras.models import Sequential, Model\n",
    "from keras.layers.embeddings import Embedding\n",
    "from keras.layers import Input, Activation, Dense, Permute, Dropout, add, dot, concatenate\n",
    "from keras.layers import LSTM\n",
    "from keras.utils.data_utils import get_file\n",
    "from keras.preprocessing.sequence import pad_sequences\n",
    "from keras.callbacks import ModelCheckpoint\n",
    "from functools import reduce\n",
    "\n",
    "import os\n",
    "import numpy as np\n",
    "import re\n",
    "import tarfile\n",
    "import codecs\n",
    "import matplotlib.pyplot as plt\n",
    "def tokenize(sent):\n",
    "    '''Return the tokens of a sentence including punctuation.\n",
    "    >>> tokenize('Bob dropped the apple. Where is the apple?')\n",
    "    ['Bob', 'dropped', 'the', 'apple', '.', 'Where', 'is', 'the', 'apple', '?']\n",
    "    '''\n",
    "    return [x.strip() for x in re.split('(\\W+)?', sent) if x.strip()]\n",
    "\n",
    "\n",
    "def parse_stories(lines, only_supporting=False):\n",
    "    '''Parse stories provided in the bAbi tasks format\n",
    "    If only_supporting is true, only the sentences\n",
    "    that support the answer are kept.\n",
    "    '''\n",
    "    data = []\n",
    "    story = []\n",
    "    for ti, line in enumerate(lines):\n",
    "        line = line.strip()\n",
    "        nid, line = line.split(' ', 1)\n",
    "        nid = int(nid)\n",
    "        if nid == 1:\n",
    "            story = []\n",
    "        if '\\t' in line:\n",
    "            q, a, supporting = line.split('\\t')\n",
    "            '''if len(re.split('\\?',line,1)) == 2:\n",
    "                q, a = re.split('\\?',line, 1)\n",
    "            else:\n",
    "                q, _, a = re.split('\\?', line, 2)\n",
    "            _, a, supporting = a.split(' ',2)'''\n",
    "            q = tokenize(q)\n",
    "            substory = None\n",
    "            if only_supporting:\n",
    "                # Only select the related substory\n",
    "                supporting = map(int, supporting.split())\n",
    "                substory = [story[i - 1] for i in supporting]\n",
    "            else:\n",
    "                # Provide all the substories\n",
    "                substory = [x for x in story if x]\n",
    "            data.append((substory, q, a))\n",
    "            story.append('')\n",
    "        else:\n",
    "            sent = tokenize(line)\n",
    "            story.append(sent)\n",
    "    return data\n",
    "\n",
    "\n",
    "def get_stories(f, only_supporting=False, max_length=None):\n",
    "    '''Given a file name, read the file,\n",
    "    retrieve the stories,\n",
    "    and then convert the sentences into a single story.\n",
    "    If max_length is supplied,\n",
    "    any stories longer than max_length tokens will be discarded.\n",
    "    '''\n",
    "    data = parse_stories(f.readlines(), only_supporting=only_supporting)\n",
    "    story_sentence_maxlen = max(map(len, (x for x, _, _ in data )))\n",
    "    flatten = lambda data: reduce(lambda x, y: x + y, data)\n",
    "    data_flatten = [(flatten(story), q, answer) for story, q, answer in data if not max_length or len(flatten(story)) < max_length]\n",
    "    return data_flatten, story_sentence_maxlen, data\n",
    "\n",
    "\n",
    "def vectorize_stories(data, word_idx, story_maxlen, query_maxlen, story_sentence_maxlen):\n",
    "    X = []\n",
    "    Xq = []\n",
    "    Y = []\n",
    "    for story, query, answer in data:\n",
    "        x = [word_idx[w] for w in story]\n",
    "        xq = [word_idx[w] for w in query]\n",
    "        # let's not forget that index 0 is reserved\n",
    "        y = np.zeros(story_sentence_maxlen + 1)\n",
    "        y[int(answer)] = 1\n",
    "        X.append(x)\n",
    "        Xq.append(xq)\n",
    "        Y.append(y)\n",
    "    return (pad_sequences(X, maxlen=story_maxlen),\n",
    "            pad_sequences(Xq, maxlen=query_maxlen), np.array(Y))"
   ]
  },
  {
   "cell_type": "markdown",
   "metadata": {},
   "source": [
    "## Preprocessing (DATA READOUT)"
   ]
  },
  {
   "cell_type": "code",
   "execution_count": 2,
   "metadata": {
    "collapsed": false
   },
   "outputs": [
    {
     "name": "stdout",
     "output_type": "stream",
     "text": [
      "Extracting stories for the challenge: squad\n"
     ]
    },
    {
     "name": "stderr",
     "output_type": "stream",
     "text": [
      "C:\\Users\\Jaejun Yoo\\Anaconda3\\envs\\tensorflow35\\lib\\re.py:203: FutureWarning: split() requires a non-empty pattern match.\n",
      "  return _compile(pattern, flags).split(string, maxsplit)\n"
     ]
    },
    {
     "name": "stdout",
     "output_type": "stream",
     "text": [
      "-\n",
      "Vocab size: 102119 unique words\n",
      "Story max length: 844 words\n",
      "Query max length: 60 words\n",
      "Story sentence max number: 29 sentences\n",
      "Number of training stories: 87599\n",
      "Number of test stories: 33539\n",
      "-\n",
      "Here's what a \"story\" tuple looks like (input, query, answer):\n",
      "(['Architecturally', ',', 'the', 'school', 'has', 'a', 'Catholic', 'character', '.', 'Atop', 'the', 'Main', 'Building', \"'\", 's', 'gold', 'dome', 'is', 'a', 'golden', 'statue', 'of', 'the', 'Virgin', 'Mary', '.', 'Immediately', 'in', 'front', 'of', 'the', 'Main', 'Building', 'and', 'facing', 'it', ',', 'is', 'a', 'copper', 'statue', 'of', 'Christ', 'with', 'arms', 'upraised', 'with', 'the', 'legend', '\"', 'Venite', 'Ad', 'Me', 'Omnes', '\".', 'Next', 'to', 'the', 'Main', 'Building', 'is', 'the', 'Basilica', 'of', 'the', 'Sacred', 'Heart', '.', 'Immediately', 'behind', 'the', 'basilica', 'is', 'the', 'Grotto', ',', 'a', 'Marian', 'place', 'of', 'prayer', 'and', 'reflection', '.', 'It', 'is', 'a', 'replica', 'of', 'the', 'grotto', 'at', 'Lourdes', ',', 'France', 'where', 'the', 'Virgin', 'Mary', 'reputedly', 'appeared', 'to', 'Saint', 'Bernadette', 'Soubirous', 'in', '1858', '.', 'At', 'the', 'end', 'of', 'the', 'main', 'drive', '(', 'and', 'in', 'a', 'direct', 'line', 'that', 'connects', 'through', '3', 'statues', 'and', 'the', 'Gold', 'Dome', '),', 'is', 'a', 'simple', ',', 'modern', 'stone', 'statue', 'of', 'Mary', '.'], ['To', 'whom', 'did', 'the', 'Virgin', 'Mary', 'allegedly', 'appear', 'in', '1858', 'in', 'Lourdes', 'France', '?'], '6')\n",
      "-\n",
      "Vectorizing the word sequences...\n",
      "-\n",
      "inputs: integer tensor of shape (samples, max_length)\n",
      "inputs_train shape: (87599, 844)\n",
      "inputs_test shape: (33539, 844)\n",
      "-\n",
      "queries: integer tensor of shape (samples, max_length)\n",
      "queries_train shape: (87599, 60)\n",
      "queries_test shape: (33539, 60)\n",
      "-\n",
      "answers: binary (1 or 0) tensor of shape (samples, vocab_size)\n",
      "answers_train shape: (87599, 30)\n",
      "answers_test shape: (33539, 30)\n",
      "-\n",
      "Compiling...\n"
     ]
    }
   ],
   "source": [
    "path = get_file('babi-tasks-v1-2.tar.gz', origin='https://s3.amazonaws.com/text-datasets/babi_tasks_1-20_v1-2.tar.gz')\n",
    "tar = tarfile.open(path)\n",
    "challenges = {\n",
    "    # QA1 with 10,000 samples\n",
    "    'single_supporting_fact_10k': 'tasks_1-20_v1-2/en-10k/qa1_single-supporting-fact_{}.txt',\n",
    "    # QA2 with 10,000 samples\n",
    "    'two_supporting_facts_10k': 'tasks_1-20_v1-2/en-10k/qa2_two-supporting-facts_{}.txt',\n",
    "    # Squad sample for test\n",
    "    'squad_sample': './data/squad/sample_{}.txt',\n",
    "    # Squad\n",
    "    'squad': './data/squad/{}.txt',\n",
    "}\n",
    "babi = False\n",
    "challenge_type = 'squad' #'single_supporting_fact_10k'\n",
    "challenge = challenges[challenge_type]\n",
    "\n",
    "print('Extracting stories for the challenge:', challenge_type)\n",
    "if babi:\n",
    "    train_stories, _, _ = get_stories(tar.extractfile(challenge.format('train')))\n",
    "    test_stories, _, _ = get_stories(tar.extractfile(challenge.format('test')))\n",
    "else:\n",
    "    train_stories, train_story_sentence_maxlen, train_stories_ori = get_stories(codecs.open(challenge.format('train'), \"r\", \"utf-8\"))\n",
    "    test_stories, test_story_sentence_maxlen, test_stories_ori = get_stories(codecs.open(challenge.format('test'), \"r\", \"utf-8\"))\n",
    "\n",
    "vocab = set()\n",
    "for story, q, answer in train_stories + test_stories:\n",
    "    vocab |= set(story + q)\n",
    "vocab = sorted(vocab)\n",
    "\n",
    "# Reserve 0 for masking via pad_sequences\n",
    "vocab_size = len(vocab) + 1\n",
    "story_maxlen = max(map(len, (x for x, _, _ in train_stories + test_stories)))\n",
    "query_maxlen = max(map(len, (x for _, x, _ in train_stories + test_stories)))\n",
    "story_sentence_maxlen = max([train_story_sentence_maxlen,test_story_sentence_maxlen])\n",
    "print('-')\n",
    "print('Vocab size:', vocab_size, 'unique words')\n",
    "print('Story max length:', story_maxlen, 'words')\n",
    "print('Query max length:', query_maxlen, 'words')\n",
    "print('Story sentence max number:', story_sentence_maxlen, 'sentences')\n",
    "print('Number of training stories:', len(train_stories))\n",
    "print('Number of test stories:', len(test_stories))\n",
    "print('-')\n",
    "print('Here\\'s what a \"story\" tuple looks like (input, query, answer):')\n",
    "print(train_stories[0])\n",
    "print('-')\n",
    "print('Vectorizing the word sequences...')\n",
    "\n",
    "word_idx = dict((c, i + 1) for i, c in enumerate(vocab))\n",
    "inputs_train, queries_train, answers_train = vectorize_stories(train_stories,\n",
    "                                                               word_idx,\n",
    "                                                               story_maxlen,\n",
    "                                                               query_maxlen,\n",
    "                                                               story_sentence_maxlen)\n",
    "inputs_test, queries_test, answers_test = vectorize_stories(test_stories,\n",
    "                                                            word_idx,\n",
    "                                                            story_maxlen,\n",
    "                                                            query_maxlen,\n",
    "                                                            story_sentence_maxlen)\n",
    "\n",
    "print('-')\n",
    "print('inputs: integer tensor of shape (samples, max_length)')\n",
    "print('inputs_train shape:', inputs_train.shape)\n",
    "print('inputs_test shape:', inputs_test.shape)\n",
    "print('-')\n",
    "print('queries: integer tensor of shape (samples, max_length)')\n",
    "print('queries_train shape:', queries_train.shape)\n",
    "print('queries_test shape:', queries_test.shape)\n",
    "print('-')\n",
    "print('answers: binary (1 or 0) tensor of shape (samples, vocab_size)')\n",
    "print('answers_train shape:', answers_train.shape)\n",
    "print('answers_test shape:', answers_test.shape)\n",
    "print('-')\n",
    "print('Compiling...')"
   ]
  },
  {
   "cell_type": "markdown",
   "metadata": {},
   "source": [
    "## Model"
   ]
  },
  {
   "cell_type": "code",
   "execution_count": 3,
   "metadata": {
    "collapsed": false
   },
   "outputs": [
    {
     "name": "stdout",
     "output_type": "stream",
     "text": [
      "____________________________________________________________________________________________________\n",
      "Layer (type)                     Output Shape          Param #     Connected to                     \n",
      "====================================================================================================\n",
      "input_1 (InputLayer)             (None, 844)           0                                            \n",
      "____________________________________________________________________________________________________\n",
      "input_2 (InputLayer)             (None, 60)            0                                            \n",
      "____________________________________________________________________________________________________\n",
      "sequential_1 (Sequential)        multiple              6535616     input_1[0][0]                    \n",
      "____________________________________________________________________________________________________\n",
      "sequential_3 (Sequential)        (None, 60, 64)        6535616     input_2[0][0]                    \n",
      "____________________________________________________________________________________________________\n",
      "dot_1 (Dot)                      (None, 844, 60)       0           sequential_1[1][0]               \n",
      "                                                                   sequential_3[1][0]               \n",
      "____________________________________________________________________________________________________\n",
      "activation_1 (Activation)        (None, 844, 60)       0           dot_1[0][0]                      \n",
      "____________________________________________________________________________________________________\n",
      "sequential_2 (Sequential)        multiple              6127140     input_1[0][0]                    \n",
      "____________________________________________________________________________________________________\n",
      "add_1 (Add)                      (None, 844, 60)       0           activation_1[0][0]               \n",
      "                                                                   sequential_2[1][0]               \n",
      "____________________________________________________________________________________________________\n",
      "permute_1 (Permute)              (None, 60, 844)       0           add_1[0][0]                      \n",
      "____________________________________________________________________________________________________\n",
      "concatenate_1 (Concatenate)      (None, 60, 908)       0           permute_1[0][0]                  \n",
      "                                                                   sequential_3[1][0]               \n",
      "____________________________________________________________________________________________________\n",
      "lstm_1 (LSTM)                    (None, 32)            120448      concatenate_1[0][0]              \n",
      "____________________________________________________________________________________________________\n",
      "dropout_4 (Dropout)              (None, 32)            0           lstm_1[0][0]                     \n",
      "____________________________________________________________________________________________________\n",
      "dense_1 (Dense)                  (None, 30)            990         dropout_4[0][0]                  \n",
      "____________________________________________________________________________________________________\n",
      "activation_2 (Activation)        (None, 30)            0           dense_1[0][0]                    \n",
      "====================================================================================================\n",
      "Total params: 19,319,810\n",
      "Trainable params: 19,319,810\n",
      "Non-trainable params: 0\n",
      "____________________________________________________________________________________________________\n"
     ]
    }
   ],
   "source": [
    "# placeholders\n",
    "input_sequence = Input((story_maxlen,))\n",
    "question = Input((query_maxlen,))\n",
    "\n",
    "# encoders\n",
    "# embed the input sequence into a sequence of vectors\n",
    "input_encoder_m = Sequential()\n",
    "input_encoder_m.add(Embedding(input_dim=vocab_size,\n",
    "                              output_dim=64))\n",
    "input_encoder_m.add(Dropout(0.3))\n",
    "# output: (samples, story_maxlen, embedding_dim)\n",
    "\n",
    "# embed the input into a sequence of vectors of size query_maxlen\n",
    "input_encoder_c = Sequential()\n",
    "input_encoder_c.add(Embedding(input_dim=vocab_size,\n",
    "                              output_dim=query_maxlen))\n",
    "input_encoder_c.add(Dropout(0.3))\n",
    "# output: (samples, story_maxlen, query_maxlen)\n",
    "\n",
    "# embed the question into a sequence of vectors\n",
    "question_encoder = Sequential()\n",
    "question_encoder.add(Embedding(input_dim=vocab_size,\n",
    "                               output_dim=64,\n",
    "                               input_length=query_maxlen))\n",
    "question_encoder.add(Dropout(0.3))\n",
    "# output: (samples, query_maxlen, embedding_dim)\n",
    "\n",
    "# encode input sequence and questions (which are indices)\n",
    "# to sequences of dense vectors\n",
    "input_encoded_m = input_encoder_m(input_sequence)\n",
    "input_encoded_c = input_encoder_c(input_sequence)\n",
    "question_encoded = question_encoder(question)\n",
    "\n",
    "# compute a 'match' between the first input vector sequence\n",
    "# and the question vector sequence\n",
    "# shape: `(samples, story_maxlen, query_maxlen)`\n",
    "match = dot([input_encoded_m, question_encoded], axes=(2, 2))\n",
    "match = Activation('softmax')(match)\n",
    "\n",
    "# add the match matrix with the second input vector sequence\n",
    "response = add([match, input_encoded_c])  # (samples, story_maxlen, query_maxlen)\n",
    "response = Permute((2, 1))(response)  # (samples, query_maxlen, story_maxlen)\n",
    "\n",
    "# concatenate the match matrix with the question vector sequence\n",
    "answer = concatenate([response, question_encoded])\n",
    "\n",
    "# the original paper uses a matrix multiplication for this reduction step.\n",
    "# we choose to use a RNN instead.\n",
    "answer = LSTM(32)(answer)  # (samples, 32)\n",
    "\n",
    "# one regularization layer -- more would probably be needed.\n",
    "answer = Dropout(0.3)(answer)\n",
    "answer = Dense(story_sentence_maxlen+1)(answer)  # (samples, story_sentence_maxlen)\n",
    "# we output a probability distribution over the vocabulary\n",
    "answer = Activation('softmax')(answer)\n",
    "\n",
    "# build the final model\n",
    "model = Model([input_sequence, question], answer)\n",
    "model.summary()"
   ]
  },
  {
   "cell_type": "code",
   "execution_count": 4,
   "metadata": {
    "collapsed": false
   },
   "outputs": [
    {
     "name": "stdout",
     "output_type": "stream",
     "text": [
      "Train on 87599 samples, validate on 33539 samples\n",
      "Epoch 1/100\n",
      "254s - loss: 1.7575 - acc: 0.2687 - val_loss: 1.7051 - val_acc: 0.2679\n",
      "Epoch 2/100\n",
      "250s - loss: 1.6811 - acc: 0.2894 - val_loss: 1.7062 - val_acc: 0.2725\n",
      "Epoch 3/100\n",
      "249s - loss: 1.6555 - acc: 0.3067 - val_loss: 1.7149 - val_acc: 0.2692\n",
      "Epoch 4/100\n",
      "249s - loss: 1.6245 - acc: 0.3276 - val_loss: 1.7412 - val_acc: 0.2568\n",
      "Epoch 5/100\n",
      "248s - loss: 1.5838 - acc: 0.3535 - val_loss: 1.7726 - val_acc: 0.2503\n",
      "Epoch 6/100\n",
      "250s - loss: 1.5484 - acc: 0.3701 - val_loss: 1.8050 - val_acc: 0.2479\n",
      "Epoch 7/100\n",
      "248s - loss: 1.5158 - acc: 0.3884 - val_loss: 1.8466 - val_acc: 0.2492\n",
      "Epoch 8/100\n",
      "248s - loss: 1.4860 - acc: 0.4077 - val_loss: 1.8662 - val_acc: 0.2369\n",
      "Epoch 9/100\n",
      "248s - loss: 1.4584 - acc: 0.4237 - val_loss: 1.9229 - val_acc: 0.2320\n",
      "Epoch 10/100\n",
      "248s - loss: 1.4290 - acc: 0.4391 - val_loss: 1.9359 - val_acc: 0.2333\n",
      "Epoch 11/100\n",
      "248s - loss: 1.4041 - acc: 0.4564 - val_loss: 1.9994 - val_acc: 0.2166\n",
      "Epoch 12/100\n",
      "247s - loss: 1.3771 - acc: 0.4717 - val_loss: 2.0319 - val_acc: 0.2292\n",
      "Epoch 13/100\n",
      "247s - loss: 1.3531 - acc: 0.4834 - val_loss: 1.9945 - val_acc: 0.2313\n",
      "Epoch 14/100\n",
      "249s - loss: 1.3276 - acc: 0.4996 - val_loss: 2.0360 - val_acc: 0.2144\n",
      "Epoch 15/100\n",
      "248s - loss: 1.3038 - acc: 0.5099 - val_loss: 2.0094 - val_acc: 0.2240\n",
      "Epoch 16/100\n",
      "248s - loss: 1.2841 - acc: 0.5225 - val_loss: 2.0678 - val_acc: 0.2236\n",
      "Epoch 17/100\n",
      "252s - loss: 1.2590 - acc: 0.5364 - val_loss: 2.1476 - val_acc: 0.2286\n",
      "Epoch 18/100\n",
      "249s - loss: 1.2403 - acc: 0.5457 - val_loss: 2.2468 - val_acc: 0.2197\n",
      "Epoch 19/100\n",
      "256s - loss: 1.2216 - acc: 0.5545 - val_loss: 2.1840 - val_acc: 0.2290\n",
      "Epoch 20/100\n",
      "251s - loss: 1.2008 - acc: 0.5650 - val_loss: 2.1490 - val_acc: 0.2191\n",
      "Epoch 21/100\n",
      "248s - loss: 1.1871 - acc: 0.5716 - val_loss: 2.2441 - val_acc: 0.2219\n",
      "Epoch 22/100\n",
      "248s - loss: 1.1712 - acc: 0.5805 - val_loss: 2.3106 - val_acc: 0.2153\n",
      "Epoch 23/100\n",
      "248s - loss: 1.1571 - acc: 0.5861 - val_loss: 2.3315 - val_acc: 0.2214\n",
      "Epoch 24/100\n",
      "248s - loss: 1.1459 - acc: 0.5892 - val_loss: 2.3357 - val_acc: 0.2200\n",
      "Epoch 25/100\n",
      "248s - loss: 1.1336 - acc: 0.5987 - val_loss: 2.2833 - val_acc: 0.2234\n",
      "Epoch 26/100\n",
      "247s - loss: 1.1180 - acc: 0.6065 - val_loss: 2.3277 - val_acc: 0.2227\n",
      "Epoch 27/100\n",
      "248s - loss: 1.1074 - acc: 0.6102 - val_loss: 2.3460 - val_acc: 0.2153\n",
      "Epoch 28/100\n",
      "248s - loss: 1.1011 - acc: 0.6123 - val_loss: 2.3075 - val_acc: 0.2245\n",
      "Epoch 29/100\n",
      "248s - loss: 1.0884 - acc: 0.6169 - val_loss: 2.4072 - val_acc: 0.2209\n",
      "Epoch 30/100\n",
      "248s - loss: 1.0792 - acc: 0.6237 - val_loss: 2.4117 - val_acc: 0.2205\n",
      "Epoch 31/100\n",
      "248s - loss: 1.0684 - acc: 0.6282 - val_loss: 2.3319 - val_acc: 0.2163\n",
      "Epoch 32/100\n",
      "248s - loss: 1.0631 - acc: 0.6318 - val_loss: 2.4751 - val_acc: 0.2219\n",
      "Epoch 33/100\n",
      "248s - loss: 1.0546 - acc: 0.6349 - val_loss: 2.5251 - val_acc: 0.2227\n",
      "Epoch 34/100\n",
      "248s - loss: 1.0485 - acc: 0.6383 - val_loss: 2.5326 - val_acc: 0.2090\n",
      "Epoch 35/100\n",
      "247s - loss: 1.0400 - acc: 0.6406 - val_loss: 2.3976 - val_acc: 0.2262\n",
      "Epoch 36/100\n",
      "247s - loss: 1.0323 - acc: 0.6464 - val_loss: 2.4856 - val_acc: 0.2164\n",
      "Epoch 37/100\n",
      "248s - loss: 1.0240 - acc: 0.6495 - val_loss: 2.5345 - val_acc: 0.2218\n",
      "Epoch 38/100\n",
      "248s - loss: 1.0207 - acc: 0.6507 - val_loss: 2.5215 - val_acc: 0.2190\n",
      "Epoch 39/100\n",
      "248s - loss: 1.0115 - acc: 0.6572 - val_loss: 2.5411 - val_acc: 0.2126\n",
      "Epoch 40/100\n",
      "248s - loss: 1.0102 - acc: 0.6576 - val_loss: 2.4743 - val_acc: 0.2203\n",
      "Epoch 41/100\n",
      "248s - loss: 1.0041 - acc: 0.6594 - val_loss: 2.4626 - val_acc: 0.2104\n",
      "Epoch 42/100\n",
      "248s - loss: 0.9988 - acc: 0.6598 - val_loss: 2.5552 - val_acc: 0.2134\n",
      "Epoch 43/100\n",
      "247s - loss: 0.9957 - acc: 0.6641 - val_loss: 2.5091 - val_acc: 0.2206\n",
      "Epoch 44/100\n",
      "248s - loss: 0.9841 - acc: 0.6686 - val_loss: 2.6746 - val_acc: 0.2174\n",
      "Epoch 45/100\n",
      "248s - loss: 0.9800 - acc: 0.6708 - val_loss: 2.5289 - val_acc: 0.2194\n",
      "Epoch 46/100\n",
      "248s - loss: 0.9716 - acc: 0.6718 - val_loss: 2.6079 - val_acc: 0.2178\n",
      "Epoch 47/100\n",
      "248s - loss: 0.9703 - acc: 0.6744 - val_loss: 2.5773 - val_acc: 0.2125\n",
      "Epoch 48/100\n",
      "248s - loss: 0.9660 - acc: 0.6757 - val_loss: 2.5295 - val_acc: 0.2126\n",
      "Epoch 49/100\n",
      "249s - loss: 0.9617 - acc: 0.6782 - val_loss: 2.6582 - val_acc: 0.2166\n",
      "Epoch 50/100\n",
      "249s - loss: 0.9607 - acc: 0.6791 - val_loss: 2.5869 - val_acc: 0.2186\n",
      "Epoch 51/100\n",
      "249s - loss: 0.9548 - acc: 0.6817 - val_loss: 2.5814 - val_acc: 0.2170\n",
      "Epoch 52/100\n",
      "249s - loss: 0.9496 - acc: 0.6838 - val_loss: 2.6875 - val_acc: 0.2112\n",
      "Epoch 53/100\n",
      "249s - loss: 0.9437 - acc: 0.6883 - val_loss: 2.7524 - val_acc: 0.2170\n",
      "Epoch 54/100\n",
      "249s - loss: 0.9427 - acc: 0.6879 - val_loss: 2.6371 - val_acc: 0.2187\n",
      "Epoch 55/100\n",
      "249s - loss: 0.9411 - acc: 0.6907 - val_loss: 2.6967 - val_acc: 0.2167\n",
      "Epoch 56/100\n",
      "249s - loss: 0.9338 - acc: 0.6921 - val_loss: 2.6239 - val_acc: 0.2130\n",
      "Epoch 57/100\n",
      "250s - loss: 0.9249 - acc: 0.6956 - val_loss: 2.5142 - val_acc: 0.2177\n",
      "Epoch 58/100\n",
      "249s - loss: 0.9281 - acc: 0.6962 - val_loss: 2.7842 - val_acc: 0.2187\n",
      "Epoch 59/100\n",
      "249s - loss: 0.9210 - acc: 0.6974 - val_loss: 2.5967 - val_acc: 0.2132\n",
      "Epoch 60/100\n",
      "249s - loss: 0.9213 - acc: 0.6985 - val_loss: 2.7750 - val_acc: 0.2127\n",
      "Epoch 61/100\n",
      "249s - loss: 0.9152 - acc: 0.7025 - val_loss: 2.6343 - val_acc: 0.2137\n",
      "Epoch 62/100\n",
      "249s - loss: 0.9048 - acc: 0.7031 - val_loss: 2.7234 - val_acc: 0.2104\n",
      "Epoch 63/100\n",
      "248s - loss: 0.9007 - acc: 0.7056 - val_loss: 2.6430 - val_acc: 0.2107\n",
      "Epoch 64/100\n",
      "249s - loss: 0.8987 - acc: 0.7054 - val_loss: 2.7502 - val_acc: 0.2108\n",
      "Epoch 65/100\n",
      "249s - loss: 0.8977 - acc: 0.7086 - val_loss: 2.7424 - val_acc: 0.2111\n",
      "Epoch 66/100\n",
      "249s - loss: 0.8928 - acc: 0.7101 - val_loss: 2.6599 - val_acc: 0.2219\n",
      "Epoch 67/100\n",
      "250s - loss: 0.8885 - acc: 0.7109 - val_loss: 2.6611 - val_acc: 0.2092\n",
      "Epoch 68/100\n",
      "249s - loss: 0.8840 - acc: 0.7126 - val_loss: 2.6844 - val_acc: 0.2166\n",
      "Epoch 69/100\n",
      "249s - loss: 0.8768 - acc: 0.7157 - val_loss: 2.7225 - val_acc: 0.2121\n",
      "Epoch 70/100\n",
      "249s - loss: 0.8774 - acc: 0.7167 - val_loss: 2.6831 - val_acc: 0.2169\n",
      "Epoch 71/100\n",
      "249s - loss: 0.8716 - acc: 0.7196 - val_loss: 2.6298 - val_acc: 0.2042\n",
      "Epoch 72/100\n",
      "249s - loss: 0.8676 - acc: 0.7201 - val_loss: 2.8162 - val_acc: 0.2159\n",
      "Epoch 73/100\n",
      "249s - loss: 0.8621 - acc: 0.7235 - val_loss: 2.7621 - val_acc: 0.2158\n",
      "Epoch 74/100\n",
      "249s - loss: 0.8612 - acc: 0.7229 - val_loss: 2.6612 - val_acc: 0.2118\n",
      "Epoch 75/100\n",
      "249s - loss: 0.8609 - acc: 0.7222 - val_loss: 2.7248 - val_acc: 0.2038\n",
      "Epoch 76/100\n",
      "249s - loss: 0.8567 - acc: 0.7250 - val_loss: 2.7153 - val_acc: 0.2101\n",
      "Epoch 77/100\n",
      "249s - loss: 0.8516 - acc: 0.7271 - val_loss: 2.6500 - val_acc: 0.2069\n",
      "Epoch 78/100\n",
      "250s - loss: 0.8454 - acc: 0.7285 - val_loss: 2.7677 - val_acc: 0.2081\n",
      "Epoch 79/100\n",
      "249s - loss: 0.8405 - acc: 0.7309 - val_loss: 2.6211 - val_acc: 0.2133\n",
      "Epoch 80/100\n",
      "249s - loss: 0.8396 - acc: 0.7302 - val_loss: 2.7472 - val_acc: 0.2116\n",
      "Epoch 81/100\n",
      "249s - loss: 0.8360 - acc: 0.7334 - val_loss: 2.7570 - val_acc: 0.2132\n",
      "Epoch 82/100\n",
      "249s - loss: 0.8319 - acc: 0.7361 - val_loss: 2.8593 - val_acc: 0.2137\n",
      "Epoch 83/100\n",
      "249s - loss: 0.8301 - acc: 0.7355 - val_loss: 2.8036 - val_acc: 0.2114\n",
      "Epoch 84/100\n",
      "249s - loss: 0.8263 - acc: 0.7378 - val_loss: 2.8255 - val_acc: 0.2138\n",
      "Epoch 85/100\n",
      "249s - loss: 0.8240 - acc: 0.7388 - val_loss: 2.8059 - val_acc: 0.2116\n",
      "Epoch 86/100\n",
      "249s - loss: 0.8169 - acc: 0.7392 - val_loss: 2.7844 - val_acc: 0.2064\n",
      "Epoch 87/100\n",
      "249s - loss: 0.8177 - acc: 0.7409 - val_loss: 2.8061 - val_acc: 0.2065\n",
      "Epoch 88/100\n",
      "249s - loss: 0.8018 - acc: 0.7458 - val_loss: 2.6496 - val_acc: 0.2053\n",
      "Epoch 89/100\n",
      "249s - loss: 0.8118 - acc: 0.7434 - val_loss: 2.8050 - val_acc: 0.2052\n",
      "Epoch 90/100\n",
      "249s - loss: 0.8080 - acc: 0.7472 - val_loss: 2.8363 - val_acc: 0.2073\n",
      "Epoch 91/100\n",
      "249s - loss: 0.8048 - acc: 0.7472 - val_loss: 2.8229 - val_acc: 0.2073\n",
      "Epoch 92/100\n",
      "249s - loss: 0.8002 - acc: 0.7469 - val_loss: 2.8345 - val_acc: 0.2042\n",
      "Epoch 93/100\n",
      "249s - loss: 0.7957 - acc: 0.7488 - val_loss: 2.8058 - val_acc: 0.2008\n",
      "Epoch 94/100\n",
      "249s - loss: 0.7983 - acc: 0.7498 - val_loss: 2.8721 - val_acc: 0.2051\n",
      "Epoch 95/100\n",
      "249s - loss: 0.7872 - acc: 0.7528 - val_loss: 2.7187 - val_acc: 0.2076\n",
      "Epoch 96/100\n",
      "249s - loss: 0.7907 - acc: 0.7524 - val_loss: 2.7475 - val_acc: 0.2090\n",
      "Epoch 97/100\n",
      "249s - loss: 0.7881 - acc: 0.7523 - val_loss: 2.7561 - val_acc: 0.2026\n",
      "Epoch 98/100\n",
      "249s - loss: 0.7905 - acc: 0.7538 - val_loss: 2.8275 - val_acc: 0.2108\n",
      "Epoch 99/100\n",
      "249s - loss: 0.7736 - acc: 0.7588 - val_loss: 2.7550 - val_acc: 0.2081\n",
      "Epoch 100/100\n",
      "251s - loss: 0.7774 - acc: 0.7576 - val_loss: 2.7813 - val_acc: 0.2067\n"
     ]
    }
   ],
   "source": [
    "model.compile(optimizer='rmsprop', loss='categorical_crossentropy',\n",
    "              metrics=['accuracy'])\n",
    "# save best model\n",
    "MODEL_DIR = \"Z:/jj_git/elice/JARDIS/MEMN2N_BASE_MODEL/checkpoint_babi\"\n",
    "checkpoint = ModelCheckpoint(filepath = os.path.join(MODEL_DIR, \"model-{epoch:02d}.h5\"),save_best_only=True)\n",
    "\n",
    "# train\n",
    "history = model.fit([inputs_train, queries_train], answers_train,\n",
    "          batch_size=32,\n",
    "          epochs=100,\n",
    "          verbose=2, validation_data=([inputs_test, queries_test], answers_test),callbacks = [checkpoint])"
   ]
  },
  {
   "cell_type": "code",
   "execution_count": 5,
   "metadata": {
    "collapsed": false
   },
   "outputs": [
    {
     "name": "stdout",
     "output_type": "stream",
     "text": [
      "33539/33539 [==============================] - 19s    \n",
      "['loss', 'acc']\n",
      "Test loss:  2.78130217231\n",
      "Test accuracy:  0.206744387131\n"
     ]
    }
   ],
   "source": [
    "score = model.evaluate([inputs_test, queries_test], answers_test, batch_size=32, verbose = 1)\n",
    "print(model.metrics_names)\n",
    "print(\"Test loss: \", score[0])\n",
    "print(\"Test accuracy: \", score[1])\n"
   ]
  },
  {
   "cell_type": "code",
   "execution_count": 6,
   "metadata": {
    "collapsed": false
   },
   "outputs": [
    {
     "name": "stdout",
     "output_type": "stream",
     "text": [
      "dict_keys(['loss', 'acc', 'val_loss', 'val_acc'])\n"
     ]
    },
    {
     "data": {
      "image/png": "[encoded data removed]",
      "text/plain": [
       "<matplotlib.figure.Figure at 0x222b4d49c88>"
      ]
     },
     "metadata": {},
     "output_type": "display_data"
    },
    {
     "data": {
      "image/png": "[encoded data removed]",
      "text/plain": [
       "<matplotlib.figure.Figure at 0x222b4d82b38>"
      ]
     },
     "metadata": {},
     "output_type": "display_data"
    }
   ],
   "source": [
    "pred = model.predict([inputs_test, queries_test])\n",
    "pred_train = model.predict([inputs_train, queries_train])\n",
    "\n",
    "# list all data in history\n",
    "print(history.history.keys())\n",
    "# summarize history for accuracy\n",
    "plt.plot(history.history['acc'])\n",
    "plt.plot(history.history['val_acc'])\n",
    "plt.title('model accuracy')\n",
    "plt.ylabel('accuracy')\n",
    "plt.xlabel('epoch')\n",
    "plt.legend(['train','test'],loc = 'upper left')\n",
    "plt.show()\n",
    "\n",
    "# summarize history for loss\n",
    "plt.plot(history.history['loss'])\n",
    "plt.plot(history.history['val_loss'])\n",
    "plt.title('model loss')\n",
    "plt.ylabel('loss')\n",
    "plt.xlabel('epoch')\n",
    "plt.legend(['train', 'test'],loc = 'upper left')\n",
    "plt.show()"
   ]
  },
  {
   "cell_type": "code",
   "execution_count": 7,
   "metadata": {
    "collapsed": false,
    "scrolled": true
   },
   "outputs": [
    {
     "name": "stdout",
     "output_type": "stream",
     "text": [
      "(87599, 30)\n",
      "(87599, 844)\n",
      "(87599, 60)\n",
      "(87599, 30)\n",
      "(['Architecturally', ',', 'the', 'school', 'has', 'a', 'Catholic', 'character', '.', 'Atop', 'the', 'Main', 'Building', \"'\", 's', 'gold', 'dome', 'is', 'a', 'golden', 'statue', 'of', 'the', 'Virgin', 'Mary', '.', 'Immediately', 'in', 'front', 'of', 'the', 'Main', 'Building', 'and', 'facing', 'it', ',', 'is', 'a', 'copper', 'statue', 'of', 'Christ', 'with', 'arms', 'upraised', 'with', 'the', 'legend', '\"', 'Venite', 'Ad', 'Me', 'Omnes', '\".', 'Next', 'to', 'the', 'Main', 'Building', 'is', 'the', 'Basilica', 'of', 'the', 'Sacred', 'Heart', '.', 'Immediately', 'behind', 'the', 'basilica', 'is', 'the', 'Grotto', ',', 'a', 'Marian', 'place', 'of', 'prayer', 'and', 'reflection', '.', 'It', 'is', 'a', 'replica', 'of', 'the', 'grotto', 'at', 'Lourdes', ',', 'France', 'where', 'the', 'Virgin', 'Mary', 'reputedly', 'appeared', 'to', 'Saint', 'Bernadette', 'Soubirous', 'in', '1858', '.', 'At', 'the', 'end', 'of', 'the', 'main', 'drive', '(', 'and', 'in', 'a', 'direct', 'line', 'that', 'connects', 'through', '3', 'statues', 'and', 'the', 'Gold', 'Dome', '),', 'is', 'a', 'simple', ',', 'modern', 'stone', 'statue', 'of', 'Mary', '.'], ['To', 'whom', 'did', 'the', 'Virgin', 'Mary', 'allegedly', 'appear', 'in', '1858', 'in', 'Lourdes', 'France', '?'], '6')\n"
     ]
    }
   ],
   "source": [
    "print(pred_train.shape)\n",
    "print(inputs_train.shape)\n",
    "print(queries_train.shape)\n",
    "print(answers_train.shape)\n",
    "print(train_stories[0])"
   ]
  },
  {
   "cell_type": "code",
   "execution_count": 8,
   "metadata": {
    "collapsed": true
   },
   "outputs": [],
   "source": [
    "# [inputs_train, queries_train], answers_train\n",
    "idx2word = dict(zip(word_idx.values(), word_idx.keys()))\n",
    "index = 0"
   ]
  },
  {
   "cell_type": "code",
   "execution_count": 9,
   "metadata": {
    "collapsed": false
   },
   "outputs": [
    {
     "name": "stdout",
     "output_type": "stream",
     "text": [
      "6\n"
     ]
    }
   ],
   "source": [
    "#depad_data(train_stories, train_questions)\n",
    "question = queries_train[index]\n",
    "sentence_index = int(train_stories_ori[index][2])\n",
    "story_index = inputs_train[index]\n",
    "print(sentence_index)"
   ]
  },
  {
   "cell_type": "code",
   "execution_count": 10,
   "metadata": {
    "collapsed": false
   },
   "outputs": [
    {
     "name": "stderr",
     "output_type": "stream",
     "text": [
      "C:\\Users\\Jaejun Yoo\\Anaconda3\\envs\\tensorflow35\\lib\\re.py:203: FutureWarning: split() requires a non-empty pattern match.\n",
      "  return _compile(pattern, flags).split(string, maxsplit)\n"
     ]
    }
   ],
   "source": [
    "train_stories, train_story_sentence_maxlen, train_stories_ori = get_stories(codecs.open(challenge.format('train'), \"r\", \"utf-8\"))\n",
    "test_stories, test_story_sentence_maxlen, test_stories_ori = get_stories(codecs.open(challenge.format('test'), \"r\", \"utf-8\"))\n"
   ]
  },
  {
   "cell_type": "code",
   "execution_count": 11,
   "metadata": {
    "collapsed": false
   },
   "outputs": [
    {
     "name": "stdout",
     "output_type": "stream",
     "text": [
      "['At', 'the', 'end', 'of', 'the', 'main', 'drive', '(', 'and', 'in', 'a', 'direct', 'line', 'that', 'connects', 'through', '3', 'statues', 'and', 'the', 'Gold', 'Dome', '),', 'is', 'a', 'simple', ',', 'modern', 'stone', 'statue', 'of', 'Mary', '.']\n"
     ]
    }
   ],
   "source": [
    "print(train_stories_ori[index][0][6])"
   ]
  },
  {
   "cell_type": "code",
   "execution_count": 12,
   "metadata": {
    "collapsed": false,
    "scrolled": true
   },
   "outputs": [
    {
     "name": "stdout",
     "output_type": "stream",
     "text": [
      "Story:\n",
      "Architecturally , the school has a Catholic character . Atop the Main Building ' s gold dome is a golden statue of the Virgin Mary . Immediately in front of the Main Building and facing it , is a copper statue of Christ with arms upraised with the legend \" Venite Ad Me Omnes \". Next to the Main Building is the Basilica of the Sacred Heart . Immediately behind the basilica is the Grotto , a Marian place of prayer and reflection . It is a replica of the grotto at Lourdes , France where the Virgin Mary reputedly appeared to Saint Bernadette Soubirous in 1858 . At the end of the main drive ( and in a direct line that connects through 3 statues and the Gold Dome ), is a simple , modern stone statue of Mary .\n",
      "\n",
      "Question:\n",
      "To whom did the Virgin Mary allegedly appear in 1858 in Lourdes France ?\n",
      "\n",
      "Prediction (sentence):\n",
      "It is a replica of the grotto at Lourdes , France where the Virgin Mary reputedly appeared to Saint Bernadette Soubirous in 1858 .\n",
      "\n",
      "Correct:\n",
      "True\n"
     ]
    }
   ],
   "source": [
    "story = train_stories[index][0]\n",
    "question = train_stories[index][1]\n",
    "answer = train_stories_ori[index][0][sentence_index]\n",
    "prediction = train_stories_ori[index][0][np.argmax(pred_train[index])-1]\n",
    "print('Story:')\n",
    "print(' '.join(word for word in story))\n",
    "print('\\nQuestion:')\n",
    "print(' '.join(word for word in question))\n",
    "print('\\nPrediction (sentence):')\n",
    "print(' '.join(word for word in prediction))\n",
    "print('\\nCorrect:')\n",
    "print(np.argmax(pred_train[index]) == sentence_index)"
   ]
  }
 ],
 "metadata": {
  "anaconda-cloud": {},
  "kernelspec": {
   "display_name": "Python [conda env:tensorflow35]",
   "language": "python",
   "name": "conda-env-tensorflow35-py"
  },
  "language_info": {
   "codemirror_mode": {
    "name": "ipython",
    "version": 3
   },
   "file_extension": ".py",
   "mimetype": "text/x-python",
   "name": "python",
   "nbconvert_exporter": "python",
   "pygments_lexer": "ipython3",
   "version": "3.5.2"
  }
 },
 "nbformat": 4,
 "nbformat_minor": 1
}
